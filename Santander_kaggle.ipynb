{
 "cells": [
  {
   "cell_type": "code",
   "execution_count": 1,
   "id": "2feea8e2",
   "metadata": {},
   "outputs": [
    {
     "name": "stdout",
     "output_type": "stream",
     "text": [
      "Requirement already satisfied: sklearn-genetic-opt in c:\\users\\shehjar raina\\anaconda3\\lib\\site-packages (0.9.0)\n",
      "Requirement already satisfied: scikit-learn>=0.21.3 in c:\\users\\shehjar raina\\anaconda3\\lib\\site-packages (from sklearn-genetic-opt) (1.0.2)\n",
      "Requirement already satisfied: deap>=1.3.1 in c:\\users\\shehjar raina\\anaconda3\\lib\\site-packages (from sklearn-genetic-opt) (1.3.3)\n",
      "Requirement already satisfied: tqdm>=4.61.1 in c:\\users\\shehjar raina\\anaconda3\\lib\\site-packages (from sklearn-genetic-opt) (4.64.1)\n",
      "Requirement already satisfied: numpy>=1.14.5 in c:\\users\\shehjar raina\\anaconda3\\lib\\site-packages (from sklearn-genetic-opt) (1.21.5)\n",
      "Requirement already satisfied: threadpoolctl>=2.0.0 in c:\\users\\shehjar raina\\anaconda3\\lib\\site-packages (from scikit-learn>=0.21.3->sklearn-genetic-opt) (2.2.0)\n",
      "Requirement already satisfied: scipy>=1.1.0 in c:\\users\\shehjar raina\\anaconda3\\lib\\site-packages (from scikit-learn>=0.21.3->sklearn-genetic-opt) (1.9.1)\n",
      "Requirement already satisfied: joblib>=0.11 in c:\\users\\shehjar raina\\anaconda3\\lib\\site-packages (from scikit-learn>=0.21.3->sklearn-genetic-opt) (1.1.0)\n",
      "Requirement already satisfied: colorama in c:\\users\\shehjar raina\\anaconda3\\lib\\site-packages (from tqdm>=4.61.1->sklearn-genetic-opt) (0.4.5)\n"
     ]
    }
   ],
   "source": [
    "!pip install sklearn-genetic-opt"
   ]
  },
  {
   "cell_type": "code",
   "execution_count": 2,
   "id": "50fbf899",
   "metadata": {},
   "outputs": [],
   "source": [
    "from vecstack import stacking\n",
    "import pandas as pd\n",
    "import numpy as np\n",
    "from sklearn.metrics import accuracy_score #works\n",
    "from sklearn.model_selection import train_test_split\n",
    "from sklearn.ensemble import RandomForestClassifier\n",
    "from sklearn.tree import DecisionTreeClassifier\n",
    "from sklearn.model_selection import GridSearchCV\n",
    "from sklearn.model_selection import RandomizedSearchCV\n",
    "from sklearn.model_selection import cross_val_score\n",
    "from sklearn.metrics import classification_report, confusion_matrix\n",
    "from sklearn.ensemble import GradientBoostingClassifier\n",
    "from sklearn.neural_network import MLPClassifier\n",
    "from imblearn.over_sampling import SMOTE \n",
    "from sklearn.svm import SVC\n",
    "from collections import Counter #for Smote, \n",
    "from genetic_selection import GeneticSelectionCV\n",
    "from sklearn_genetic import GAFeatureSelectionCV\n",
    "from sklearn.utils import shuffle\n",
    "\n",
    "# Import libraries for feature selection\n",
    "from sklearn.feature_selection import SelectFromModel \n",
    "from sklearn.feature_selection import SelectKBest #independent evaluation of features\n",
    "from sklearn.feature_selection import chi2, f_classif\n",
    "#from mlxtend.feature_selection import SequentialFeatureSelector as SFS\n",
    "\n",
    "import warnings\n",
    "warnings.filterwarnings(\"ignore\")"
   ]
  },
  {
   "cell_type": "code",
   "execution_count": 3,
   "id": "3a41de2b",
   "metadata": {},
   "outputs": [
    {
     "name": "stdout",
     "output_type": "stream",
     "text": [
      "(76020, 371)\n",
      "(75818, 370)\n",
      "(76020, 1)\n",
      "(76020, 370)\n"
     ]
    }
   ],
   "source": [
    "train_data = pd.read_csv(\"C:\\\\Users\\\\Shehjar Raina\\\\Desktop\\\\CIS 508 Data Mining\\\\IA4\\\\Santander_TRAIN.csv\")\n",
    "test_data = pd.read_csv(\"C:\\\\Users\\\\Shehjar Raina\\\\Desktop\\\\CIS 508 Data Mining\\\\IA4\\\\Santander_TEST.csv\") \n",
    "print(train_data.shape)\n",
    "print(test_data.shape) \n",
    "y_train = train_data[[\"TARGET\"]].copy()\n",
    "x_train = train_data.drop(columns=[\"TARGET\"]).copy()\n",
    "print(y_train.shape)\n",
    "print(x_train.shape)"
   ]
  },
  {
   "cell_type": "code",
   "execution_count": 4,
   "id": "e2d9092b",
   "metadata": {},
   "outputs": [
    {
     "data": {
      "text/plain": [
       "0    73012\n",
       "1     3008\n",
       "Name: TARGET, dtype: int64"
      ]
     },
     "execution_count": 4,
     "metadata": {},
     "output_type": "execute_result"
    }
   ],
   "source": [
    "train_data['TARGET'].value_counts()"
   ]
  },
  {
   "cell_type": "code",
   "execution_count": 4,
   "id": "2aca227b",
   "metadata": {},
   "outputs": [
    {
     "data": {
      "text/plain": [
       "(0    73012\n",
       " Name: TARGET, dtype: int64,\n",
       " 1    3008\n",
       " Name: TARGET, dtype: int64)"
      ]
     },
     "execution_count": 4,
     "metadata": {},
     "output_type": "execute_result"
    }
   ],
   "source": [
    "class0=train_data[train_data['TARGET']==0].copy()\n",
    "class1=train_data[train_data['TARGET']==1].copy()\n",
    "class0['TARGET'].value_counts(),class1['TARGET'].value_counts()"
   ]
  },
  {
   "cell_type": "markdown",
   "id": "c5d7a5be",
   "metadata": {},
   "source": [
    "**Defining Function**"
   ]
  },
  {
   "cell_type": "code",
   "execution_count": 5,
   "id": "2ff99592",
   "metadata": {},
   "outputs": [],
   "source": [
    "def func_sample(class0,class1,n):\n",
    "    xtrn=class1.append(class0.sample(n))\n",
    "    xtrn=shuffle(xtrn)\n",
    "    X =  xtrn.drop('TARGET',axis=1).copy()\n",
    "    y = xtrn[['TARGET']].copy()\n",
    "    return X,y\n",
    "\n",
    "X,y = func_sample(class0,class1,4)"
   ]
  },
  {
   "cell_type": "markdown",
   "id": "19c0a5b1",
   "metadata": {},
   "source": [
    "With Majority Class0 = 3000"
   ]
  },
  {
   "cell_type": "code",
   "execution_count": 7,
   "id": "bd4092c1",
   "metadata": {},
   "outputs": [],
   "source": [
    "X,y = func_sample(class0,class1,3000)"
   ]
  },
  {
   "cell_type": "code",
   "execution_count": 9,
   "id": "ce91ce96",
   "metadata": {},
   "outputs": [],
   "source": [
    "clf = RandomForestClassifier()\n",
    "model = GeneticSelectionCV(\n",
    "    clf, cv=5, verbose=0,\n",
    "    scoring=\"accuracy\", max_features=25,\n",
    "    n_population=100, crossover_proba=0.5,\n",
    "    mutation_proba=0.2, n_generations=100,\n",
    "    crossover_independent_proba=0.5,\n",
    "    mutation_independent_proba=0.04,\n",
    "    tournament_size=3, n_gen_no_change=10,\n",
    "    caching=True, n_jobs=-1)\n",
    "model = model.fit(X, y)"
   ]
  },
  {
   "cell_type": "code",
   "execution_count": 10,
   "id": "2616a9f9",
   "metadata": {},
   "outputs": [
    {
     "name": "stdout",
     "output_type": "stream",
     "text": [
      "\n",
      " cols =  [2, 4, 5, 18, 45, 47, 51, 58, 59, 108, 183, 194, 204, 219, 285, 300, 329, 331, 334, 363] \n",
      "\n",
      "\n",
      " features_df_new_ga=         var15  imp_op_var39_comer_ult1  imp_op_var39_comer_ult3  \\\n",
      "13249     55                     0.00                     0.00   \n",
      "75102     28                     0.00                     0.00   \n",
      "22833     24                     0.00                     0.00   \n",
      "10936     32                     0.00                     0.00   \n",
      "70091     28                     0.00                     0.00   \n",
      "...      ...                      ...                      ...   \n",
      "35386     36                     0.00                     0.00   \n",
      "34132     42                     0.00                     0.00   \n",
      "71930     27                     0.00                     0.00   \n",
      "62340     27                   220.92                   220.92   \n",
      "42519     24                     0.00                     0.00   \n",
      "\n",
      "       imp_op_var39_ult1  ind_var18  ind_var20_0  ind_var25_cte  ind_var28_0  \\\n",
      "13249               0.00          0            0              0            0   \n",
      "75102               0.00          0            0              0            0   \n",
      "22833               0.00          0            0              0            0   \n",
      "10936               0.00          0            0              0            0   \n",
      "70091               0.00          0            0              0            0   \n",
      "...                  ...        ...          ...            ...          ...   \n",
      "35386               0.00          0            0              0            0   \n",
      "34132               0.00          0            0              0            0   \n",
      "71930               0.00          0            0              0            0   \n",
      "62340             220.92          0            0              0            0   \n",
      "42519               0.00          0            0              0            0   \n",
      "\n",
      "       ind_var28  num_var17_0  saldo_var30  var36  \\\n",
      "13249          0            0         3.00      2   \n",
      "75102          0            0         0.00     99   \n",
      "22833          0            0         3.00      3   \n",
      "10936          0            0      1815.00      1   \n",
      "70091          0            0         3.00      3   \n",
      "...          ...          ...          ...    ...   \n",
      "35386          0            0      2460.00      2   \n",
      "34132          0            0         0.00     99   \n",
      "71930          0            0         3.00      3   \n",
      "62340          0            0        19.08     99   \n",
      "42519          0            0         3.00      3   \n",
      "\n",
      "       delta_imp_trasp_var17_in_1y3  delta_num_trasp_var33_out_1y3  \\\n",
      "13249                             0                              0   \n",
      "75102                             0                              0   \n",
      "22833                             0                              0   \n",
      "10936                             0                              0   \n",
      "70091                             0                              0   \n",
      "...                             ...                            ...   \n",
      "35386                             0                              0   \n",
      "34132                             0                              0   \n",
      "71930                             0                              0   \n",
      "62340                             0                              0   \n",
      "42519                             0                              0   \n",
      "\n",
      "       num_meses_var13_largo_ult3  num_op_var41_efect_ult1  \\\n",
      "13249                           0                        0   \n",
      "75102                           0                        0   \n",
      "22833                           0                        0   \n",
      "10936                           0                        0   \n",
      "70091                           0                        0   \n",
      "...                           ...                      ...   \n",
      "35386                           0                        0   \n",
      "34132                           0                        0   \n",
      "71930                           0                        0   \n",
      "62340                           0                        0   \n",
      "42519                           0                        0   \n",
      "\n",
      "       saldo_medio_var5_hace2  saldo_medio_var5_ult1  saldo_medio_var8_hace3  \\\n",
      "13249                    0.75                   3.00                     0.0   \n",
      "75102                    0.00                   0.00                     0.0   \n",
      "22833                    3.00                   3.00                     0.0   \n",
      "10936                   15.00                1622.13                     0.0   \n",
      "70091                    3.00                   3.00                     0.0   \n",
      "...                       ...                    ...                     ...   \n",
      "35386                 2280.99                2460.00                     0.0   \n",
      "34132                    0.00                   0.00                     0.0   \n",
      "71930                    3.00                   3.00                     0.0   \n",
      "62340                    0.00                 222.72                     0.0   \n",
      "42519                    3.00                   3.00                     0.0   \n",
      "\n",
      "       saldo_medio_var33_ult1  \n",
      "13249                     0.0  \n",
      "75102                     0.0  \n",
      "22833                     0.0  \n",
      "10936                     0.0  \n",
      "70091                     0.0  \n",
      "...                       ...  \n",
      "35386                     0.0  \n",
      "34132                     0.0  \n",
      "71930                     0.0  \n",
      "62340                     0.0  \n",
      "42519                     0.0  \n",
      "\n",
      "[6008 rows x 20 columns]\n"
     ]
    }
   ],
   "source": [
    "rr = model.get_support()\n",
    "cols=[i for i,x in enumerate(rr) if x] #get column indices\n",
    "print(\"\\n cols = \", cols, \"\\n\")\n",
    "features_df_new_ga = X.iloc[:,cols]\n",
    "print (\"\\n features_df_new_ga= \", features_df_new_ga)"
   ]
  },
  {
   "cell_type": "code",
   "execution_count": 11,
   "id": "8fc9605f",
   "metadata": {},
   "outputs": [
    {
     "name": "stdout",
     "output_type": "stream",
     "text": [
      "(75818, 20)\n"
     ]
    }
   ],
   "source": [
    "clf = RandomForestClassifier()\n",
    "clf.fit(features_df_new_ga, y)\n",
    "#Get corresponding test set columns\n",
    "Best_test = test_data.iloc[:,cols] #Get cols of X-Train with col names\n",
    "print(Best_test.shape)"
   ]
  },
  {
   "cell_type": "code",
   "execution_count": 12,
   "id": "c91b2d74",
   "metadata": {},
   "outputs": [],
   "source": [
    "PreID = test_data['ID']\n",
    "prob_test = clf.predict_proba(Best_test)\n",
    "prob_test = pd.DataFrame(prob_test[:,1],columns=['TARGET']) \n",
    "output=pd.concat([PreID, prob_test],axis=1)\n",
    "output.to_csv(\"C:\\\\Users\\\\Shehjar Raina\\\\Desktop\\\\CIS 508 Data Mining\\\\IA4\\\\GA\\\\FS1_3000.csv\", index=False)"
   ]
  },
  {
   "cell_type": "markdown",
   "id": "7d052126",
   "metadata": {},
   "source": [
    "With 6000"
   ]
  },
  {
   "cell_type": "code",
   "execution_count": 13,
   "id": "cb356c62",
   "metadata": {},
   "outputs": [],
   "source": [
    "X,y = func_sample(class0,class1,6000)"
   ]
  },
  {
   "cell_type": "code",
   "execution_count": 14,
   "id": "777b2536",
   "metadata": {},
   "outputs": [],
   "source": [
    "clf1 = RandomForestClassifier()\n",
    "model1 = GeneticSelectionCV(\n",
    "    clf1, cv=5, verbose=0,\n",
    "    scoring=\"accuracy\", max_features=25,\n",
    "    n_population=100, crossover_proba=0.5,\n",
    "    mutation_proba=0.2, n_generations=100,\n",
    "    crossover_independent_proba=0.5,\n",
    "    mutation_independent_proba=0.04,\n",
    "    tournament_size=3, n_gen_no_change=10,\n",
    "    caching=True, n_jobs=-1)\n",
    "model1 = model1.fit(X, y)"
   ]
  },
  {
   "cell_type": "code",
   "execution_count": 15,
   "id": "713b93bc",
   "metadata": {},
   "outputs": [
    {
     "name": "stdout",
     "output_type": "stream",
     "text": [
      "\n",
      " cols =  [2, 4, 5, 18, 45, 47, 51, 58, 59, 108, 183, 194, 204, 219, 285, 300, 329, 331, 334, 363] \n",
      "\n",
      "\n",
      " features_df_new_ga1=         var15  imp_op_var39_ult1  ind_var5_0  ind_var30  ind_var31  ind_var39  \\\n",
      "66848     47               0.00           1          1          0          0   \n",
      "21218     47               0.00           1          1          0          0   \n",
      "7515      38            3600.00           0          1          0          0   \n",
      "27483     30              92.70           1          1          0          0   \n",
      "47823     36               0.00           1          1          0          0   \n",
      "...      ...                ...         ...        ...        ...        ...   \n",
      "68275     26               0.00           1          0          0          0   \n",
      "57166     34               0.00           1          1          0          0   \n",
      "4850      40            2877.84           1          1          0          0   \n",
      "54222     41            4193.19           0          1          0          0   \n",
      "61764     23               0.00           1          1          0          0   \n",
      "\n",
      "       num_var8_0  num_var13_medio_0  num_var25_0  num_op_var40_ult3  ...  \\\n",
      "66848           0                  0            0                  0  ...   \n",
      "21218           0                  0            0                  0  ...   \n",
      "7515            3                  0            3                  0  ...   \n",
      "27483           0                  0            0                  0  ...   \n",
      "47823           0                  0            0                  0  ...   \n",
      "...           ...                ...          ...                ...  ...   \n",
      "68275           0                  0            0                  0  ...   \n",
      "57166           0                  0            0                  0  ...   \n",
      "4850            0                  0            0                  0  ...   \n",
      "54222           3                  0            6                  0  ...   \n",
      "61764           0                  0            0                  0  ...   \n",
      "\n",
      "       imp_aport_var13_ult1  num_aport_var33_ult1  num_meses_var39_vig_ult3  \\\n",
      "66848                   0.0                     0                         2   \n",
      "21218                   0.0                     0                         2   \n",
      "7515                    0.0                     0                         2   \n",
      "27483                   0.0                     0                         2   \n",
      "47823                   0.0                     0                         2   \n",
      "...                     ...                   ...                       ...   \n",
      "68275                   0.0                     0                         1   \n",
      "57166                   0.0                     0                         2   \n",
      "4850                    0.0                     0                         2   \n",
      "54222                   0.0                     0                         1   \n",
      "61764                   0.0                     0                         0   \n",
      "\n",
      "       num_op_var39_comer_ult1  num_op_var41_efect_ult1  \\\n",
      "66848                        0                        0   \n",
      "21218                        0                        0   \n",
      "7515                         0                        6   \n",
      "27483                        3                        0   \n",
      "47823                        0                        0   \n",
      "...                        ...                      ...   \n",
      "68275                        0                        0   \n",
      "57166                        0                        0   \n",
      "4850                        21                        6   \n",
      "54222                        3                        9   \n",
      "61764                        0                        0   \n",
      "\n",
      "       num_trasp_var33_in_ult1  saldo_medio_var5_hace2  saldo_medio_var5_ult3  \\\n",
      "66848                        0                    0.00                   0.00   \n",
      "21218                        0                   30.00                  25.47   \n",
      "7515                         0                    0.00                   0.00   \n",
      "27483                        0                   33.54                  12.39   \n",
      "47823                        0                    0.93               24448.95   \n",
      "...                        ...                     ...                    ...   \n",
      "68275                        0                    0.00                   0.00   \n",
      "57166                        0                 1936.62                   0.00   \n",
      "4850                         0                 8910.00                5388.36   \n",
      "54222                        0                    0.00                   0.00   \n",
      "61764                        0                  150.00                 127.41   \n",
      "\n",
      "       saldo_medio_var13_corto_hace2  saldo_medio_var44_ult3  \n",
      "66848                       30000.00                     0.0  \n",
      "21218                           0.00                     0.0  \n",
      "7515                            0.00                     0.0  \n",
      "27483                           0.00                     0.0  \n",
      "47823                           0.00                     0.0  \n",
      "...                              ...                     ...  \n",
      "68275                           0.00                     0.0  \n",
      "57166                       16453.26                     0.0  \n",
      "4850                            0.00                     0.0  \n",
      "54222                           0.00                     0.0  \n",
      "61764                           0.00                     0.0  \n",
      "\n",
      "[9008 rows x 23 columns]\n"
     ]
    }
   ],
   "source": [
    "rr1 = model1.get_support()\n",
    "cols1=[i for i,x in enumerate(rr1) if x] #get column indices\n",
    "print(\"\\n cols = \", cols, \"\\n\")\n",
    "features_df_new_ga1 = X.iloc[:,cols1]\n",
    "print (\"\\n features_df_new_ga1= \", features_df_new_ga1)"
   ]
  },
  {
   "cell_type": "code",
   "execution_count": 16,
   "id": "b1cd0170",
   "metadata": {},
   "outputs": [
    {
     "name": "stdout",
     "output_type": "stream",
     "text": [
      "(75818, 23)\n"
     ]
    }
   ],
   "source": [
    "clf1 = RandomForestClassifier()\n",
    "clf1.fit(features_df_new_ga1, y)\n",
    "#Get corresponding test set columns\n",
    "Best_test1 = test_data.iloc[:,cols1] #Get cols of X-Train with col names\n",
    "print(Best_test1.shape)"
   ]
  },
  {
   "cell_type": "code",
   "execution_count": 17,
   "id": "ae5229d6",
   "metadata": {},
   "outputs": [],
   "source": [
    "PreID = test_data['ID']\n",
    "prob_test1 = clf1.predict_proba(Best_test1)\n",
    "prob_test1 = pd.DataFrame(prob_test1[:,1],columns=['TARGET']) \n",
    "output1=pd.concat([PreID, prob_test1],axis=1)\n",
    "output1.to_csv(\"C:\\\\Users\\\\Shehjar Raina\\\\Desktop\\\\CIS 508 Data Mining\\\\IA4\\\\GA\\\\FS1_6000.csv\", index=False)"
   ]
  },
  {
   "cell_type": "markdown",
   "id": "de2c5019",
   "metadata": {},
   "source": [
    "With 9000"
   ]
  },
  {
   "cell_type": "code",
   "execution_count": 19,
   "id": "ebd02e74",
   "metadata": {},
   "outputs": [],
   "source": [
    "X,y = func_sample(class0,class1,9000)"
   ]
  },
  {
   "cell_type": "code",
   "execution_count": 20,
   "id": "e1ee87b7",
   "metadata": {},
   "outputs": [],
   "source": [
    "clf2 = RandomForestClassifier()\n",
    "model2 = GeneticSelectionCV(\n",
    "    clf2, cv=5, verbose=0,\n",
    "    scoring=\"accuracy\", max_features=25,\n",
    "    n_population=100, crossover_proba=0.5,\n",
    "    mutation_proba=0.2, n_generations=100,\n",
    "    crossover_independent_proba=0.5,\n",
    "    mutation_independent_proba=0.04,\n",
    "    tournament_size=3, n_gen_no_change=10,\n",
    "    caching=True, n_jobs=-1)\n",
    "model2 = model2.fit(X, y)"
   ]
  },
  {
   "cell_type": "code",
   "execution_count": 21,
   "id": "c423a8d1",
   "metadata": {},
   "outputs": [
    {
     "name": "stdout",
     "output_type": "stream",
     "text": [
      "\n",
      " cols =  [2, 4, 5, 18, 45, 47, 51, 58, 59, 108, 183, 194, 204, 219, 285, 300, 329, 331, 334, 363] \n",
      "\n",
      "\n",
      " features_df_new_ga2=         var15  ind_var5  ind_var13_corto_0  ind_var30  num_var13_0  num_var17  \\\n",
      "34110     25         0                  0          0            0          0   \n",
      "11113     23         0                  0          0            0          0   \n",
      "18593     23         1                  0          1            0          0   \n",
      "15606     41         0                  0          0            0          0   \n",
      "9120      25         1                  0          1            0          0   \n",
      "...      ...       ...                ...        ...          ...        ...   \n",
      "9299      33         1                  0          1            0          0   \n",
      "7923      25         1                  0          1            0          0   \n",
      "69772     41         0                  0          1            0          0   \n",
      "40570     60         1                  0          1            0          0   \n",
      "28713     23         1                  0          1            0          0   \n",
      "\n",
      "       num_var30_0  num_var42  saldo_var8  saldo_var25  ...  \\\n",
      "34110            3          0         0.0          0.0  ...   \n",
      "11113            3          0         0.0          0.0  ...   \n",
      "18593            3          3         0.0          0.0  ...   \n",
      "15606            3          0         0.0          0.0  ...   \n",
      "9120             3          3         0.0          0.0  ...   \n",
      "...            ...        ...         ...          ...  ...   \n",
      "9299             3          3         0.0          0.0  ...   \n",
      "7923             3          3         0.0          0.0  ...   \n",
      "69772            6          3         0.0          0.0  ...   \n",
      "40570            3          3         0.0          0.0  ...   \n",
      "28713            3          3         0.0          0.0  ...   \n",
      "\n",
      "       imp_amort_var18_hace3  imp_amort_var34_ult1  imp_trasp_var17_in_ult1  \\\n",
      "34110                      0                   0.0                      0.0   \n",
      "11113                      0                   0.0                      0.0   \n",
      "18593                      0                   0.0                      0.0   \n",
      "15606                      0                   0.0                      0.0   \n",
      "9120                       0                   0.0                      0.0   \n",
      "...                      ...                   ...                      ...   \n",
      "9299                       0                   0.0                      0.0   \n",
      "7923                       0                   0.0                      0.0   \n",
      "69772                      0                   0.0                      0.0   \n",
      "40570                      0                   0.0                      0.0   \n",
      "28713                      0                   0.0                      0.0   \n",
      "\n",
      "       num_meses_var13_medio_ult3  num_trasp_var33_in_hace3  \\\n",
      "34110                           0                         0   \n",
      "11113                           0                         0   \n",
      "18593                           0                         0   \n",
      "15606                           0                         0   \n",
      "9120                            0                         0   \n",
      "...                           ...                       ...   \n",
      "9299                            0                         0   \n",
      "7923                            0                         0   \n",
      "69772                           0                         0   \n",
      "40570                           0                         0   \n",
      "28713                           0                         0   \n",
      "\n",
      "       saldo_medio_var8_ult1  saldo_medio_var13_corto_ult1  \\\n",
      "34110                    0.0                           0.0   \n",
      "11113                    0.0                           0.0   \n",
      "18593                    0.0                           0.0   \n",
      "15606                    0.0                           0.0   \n",
      "9120                     0.0                           0.0   \n",
      "...                      ...                           ...   \n",
      "9299                     0.0                           0.0   \n",
      "7923                     0.0                           0.0   \n",
      "69772                    0.0                           0.0   \n",
      "40570                    0.0                           0.0   \n",
      "28713                    0.0                           0.0   \n",
      "\n",
      "       saldo_medio_var17_ult1  saldo_medio_var29_hace3  saldo_medio_var44_ult1  \n",
      "34110                     0.0                      0.0                     0.0  \n",
      "11113                     0.0                      0.0                     0.0  \n",
      "18593                     0.0                      0.0                     0.0  \n",
      "15606                     0.0                      0.0                     0.0  \n",
      "9120                      0.0                      0.0                     0.0  \n",
      "...                       ...                      ...                     ...  \n",
      "9299                      0.0                      0.0                     0.0  \n",
      "7923                      0.0                      0.0                     0.0  \n",
      "69772                     0.0                      0.0                     0.0  \n",
      "40570                     0.0                      0.0                     0.0  \n",
      "28713                     0.0                      0.0                     0.0  \n",
      "\n",
      "[12008 rows x 23 columns]\n"
     ]
    }
   ],
   "source": [
    "rr2 = model2.get_support()\n",
    "cols2=[i for i,x in enumerate(rr2) if x] #get column indices\n",
    "print(\"\\n cols = \", cols, \"\\n\")\n",
    "features_df_new_ga2 = X.iloc[:,cols2]\n",
    "print (\"\\n features_df_new_ga2= \", features_df_new_ga2)"
   ]
  },
  {
   "cell_type": "code",
   "execution_count": 22,
   "id": "2360a637",
   "metadata": {},
   "outputs": [
    {
     "name": "stdout",
     "output_type": "stream",
     "text": [
      "(75818, 23)\n"
     ]
    }
   ],
   "source": [
    "clf2 = RandomForestClassifier()\n",
    "clf2.fit(features_df_new_ga2, y)\n",
    "#Get corresponding test set columns\n",
    "Best_test2 = test_data.iloc[:,cols2] #Get cols of X-Train with col names\n",
    "print(Best_test2.shape)"
   ]
  },
  {
   "cell_type": "code",
   "execution_count": 23,
   "id": "a34fc497",
   "metadata": {},
   "outputs": [],
   "source": [
    "PreID = test_data['ID']\n",
    "prob_test2 = clf2.predict_proba(Best_test2)\n",
    "prob_test2 = pd.DataFrame(prob_test2[:,1],columns=['TARGET']) \n",
    "output2=pd.concat([PreID, prob_test2],axis=1)\n",
    "output2.to_csv(\"C:\\\\Users\\\\Shehjar Raina\\\\Desktop\\\\CIS 508 Data Mining\\\\IA4\\\\GA\\\\FS1_9000.csv\", index=False)"
   ]
  },
  {
   "cell_type": "markdown",
   "id": "0ceca244",
   "metadata": {},
   "source": [
    "Taking Majority Class = 3000 as it is giving highest Kaggle Score for further analysis"
   ]
  },
  {
   "cell_type": "markdown",
   "id": "4db4e21e",
   "metadata": {},
   "source": [
    "max_features = 50 using RandomForestClassifier"
   ]
  },
  {
   "cell_type": "code",
   "execution_count": 6,
   "id": "fabbb389",
   "metadata": {},
   "outputs": [],
   "source": [
    "X,y = func_sample(class0,class1,3000)"
   ]
  },
  {
   "cell_type": "code",
   "execution_count": 7,
   "id": "6197bac7",
   "metadata": {},
   "outputs": [],
   "source": [
    "clf3 = RandomForestClassifier()\n",
    "model3 = GeneticSelectionCV(\n",
    "    clf3, cv=5, verbose=0,\n",
    "    scoring=\"accuracy\", max_features=50,\n",
    "    n_population=100, crossover_proba=0.5,\n",
    "    mutation_proba=0.2, n_generations=100,\n",
    "    crossover_independent_proba=0.5,\n",
    "    mutation_independent_proba=0.04,\n",
    "    tournament_size=3, n_gen_no_change=10,\n",
    "    caching=True, n_jobs=-1)\n",
    "model3 = model3.fit(X, y)"
   ]
  },
  {
   "cell_type": "code",
   "execution_count": 8,
   "id": "236107cf",
   "metadata": {},
   "outputs": [
    {
     "name": "stdout",
     "output_type": "stream",
     "text": [
      "['var15', 'imp_ent_var16_ult1', 'imp_op_var41_efect_ult3', 'imp_op_var39_ult1', 'ind_var13_corto', 'ind_var17_0', 'ind_var25_cte', 'ind_var26', 'ind_var31_0', 'ind_var34_0', 'ind_var46_0', 'num_var12_0', 'num_var13_largo', 'num_var13_medio', 'num_var14_0', 'num_op_var41_ult3', 'num_var31_0', 'num_var44_0', 'saldo_var24', 'saldo_var30', 'saldo_var33', 'saldo_var44', 'delta_imp_amort_var34_1y3', 'delta_imp_trasp_var17_out_1y3', 'delta_num_aport_var17_1y3', 'imp_reemb_var17_hace3', 'imp_trans_var37_ult1', 'ind_var43_emit_ult1', 'var21', 'num_var7_emit_ult1', 'num_med_var22_ult3', 'num_meses_var13_medio_ult3', 'num_meses_var39_vig_ult3', 'num_op_var39_comer_ult1', 'num_op_var40_efect_ult1', 'num_var45_hace2', 'saldo_medio_var5_hace2', 'saldo_medio_var12_hace2', 'saldo_medio_var12_ult3', 'saldo_medio_var13_medio_hace3', 'saldo_medio_var29_hace3', 'saldo_medio_var33_hace2', 'saldo_medio_var44_ult3']\n"
     ]
    }
   ],
   "source": [
    "rr3 = model3.get_support()\n",
    "cols3=[i for i,x in enumerate(rr3) if x] #get column indices\n",
    "#print(\"\\n cols = \", cols, \"\\n\")\n",
    "features_df_new_ga3 = X.iloc[:,cols3]\n",
    "#print (\"\\n features_df_new_ga3= \", features_df_new_ga3)\n",
    "list_rf_top50 = features_df_new_ga3.columns.values.tolist()\n",
    "print(list_rf_top50)"
   ]
  },
  {
   "cell_type": "markdown",
   "id": "5489d04a",
   "metadata": {},
   "source": [
    "**Model 1**"
   ]
  },
  {
   "cell_type": "code",
   "execution_count": 55,
   "id": "7067e0ff",
   "metadata": {},
   "outputs": [
    {
     "name": "stdout",
     "output_type": "stream",
     "text": [
      "(75818, 48)\n"
     ]
    }
   ],
   "source": [
    "rf1 = RandomForestClassifier()\n",
    "rf1.fit(features_df_new_ga3, y)\n",
    "#Get corresponding test set columns\n",
    "Best_test3 = test_data.iloc[:,cols3] #Get cols of X-Train with col names\n",
    "print(Best_test3.shape)"
   ]
  },
  {
   "cell_type": "code",
   "execution_count": 57,
   "id": "ee906a39",
   "metadata": {},
   "outputs": [],
   "source": [
    "PreID = test_data['ID']\n",
    "prob_test3 = rf1.predict_proba(Best_test3)\n",
    "prob_test3 = pd.DataFrame(prob_test3[:,1],columns=['TARGET']) \n",
    "output3=pd.concat([PreID, prob_test3],axis=1)\n",
    "output3.to_csv(\"C:\\\\Users\\\\Shehjar Raina\\\\Desktop\\\\CIS 508 Data Mining\\\\IA4\\\\GA\\\\Model1_GA_50.csv\", index=False)"
   ]
  },
  {
   "cell_type": "markdown",
   "id": "d43121e8",
   "metadata": {},
   "source": [
    "**Model 2**"
   ]
  },
  {
   "cell_type": "code",
   "execution_count": 58,
   "id": "ff6174c5",
   "metadata": {},
   "outputs": [
    {
     "name": "stdout",
     "output_type": "stream",
     "text": [
      "(75818, 48)\n"
     ]
    }
   ],
   "source": [
    "dt1 = DecisionTreeClassifier()\n",
    "dt1.fit(features_df_new_ga3, y)\n",
    "#Get corresponding test set columns\n",
    "Best_test3 = test_data.iloc[:,cols3] #Get cols of X-Train with col names\n",
    "print(Best_test3.shape)"
   ]
  },
  {
   "cell_type": "code",
   "execution_count": 59,
   "id": "0a9db2e2",
   "metadata": {},
   "outputs": [],
   "source": [
    "PreID = test_data['ID']\n",
    "prob_test3 = dt1.predict_proba(Best_test3)\n",
    "prob_test3 = pd.DataFrame(prob_test3[:,1],columns=['TARGET']) \n",
    "output3=pd.concat([PreID, prob_test3],axis=1)\n",
    "output3.to_csv(\"C:\\\\Users\\\\Shehjar Raina\\\\Desktop\\\\CIS 508 Data Mining\\\\IA4\\\\GA\\\\Model2_GA_50.csv\", index=False)"
   ]
  },
  {
   "cell_type": "markdown",
   "id": "3d42fb0a",
   "metadata": {},
   "source": [
    "max_features = 50 using DecisionTreeClassifier"
   ]
  },
  {
   "cell_type": "code",
   "execution_count": 24,
   "id": "e94df031",
   "metadata": {},
   "outputs": [],
   "source": [
    "clf4 = DecisionTreeClassifier()\n",
    "model4 = GeneticSelectionCV(\n",
    "    clf4, cv=5, verbose=0,\n",
    "    scoring=\"accuracy\", max_features=50,\n",
    "    n_population=100, crossover_proba=0.5,\n",
    "    mutation_proba=0.2, n_generations=100,\n",
    "    crossover_independent_proba=0.5,\n",
    "    mutation_independent_proba=0.04,\n",
    "    tournament_size=3, n_gen_no_change=10,\n",
    "    caching=True, n_jobs=-1)\n",
    "model4 = model4.fit(X, y)"
   ]
  },
  {
   "cell_type": "code",
   "execution_count": 25,
   "id": "1763fc50",
   "metadata": {},
   "outputs": [
    {
     "name": "stdout",
     "output_type": "stream",
     "text": [
      "['var15', 'imp_op_var41_ult1', 'ind_var6_0', 'ind_var13_medio_0', 'ind_var13_medio', 'ind_var20', 'ind_var33', 'ind_var44', 'num_var4', 'num_var5_0', 'num_var12_0', 'num_var13_corto_0', 'num_var13_largo_0', 'num_var14_0', 'num_op_var40_hace2', 'num_var30_0', 'num_var32_0', 'num_var42_0', 'num_var42', 'saldo_var5', 'saldo_var28', 'saldo_var29', 'saldo_var31', 'saldo_var42', 'delta_imp_amort_var34_1y3', 'delta_num_trasp_var17_in_1y3', 'imp_reemb_var33_hace3', 'imp_reemb_var33_ult1', 'imp_var43_emit_ult1', 'imp_trasp_var33_in_ult1', 'imp_trasp_var33_out_hace3', 'imp_venta_var44_hace3', 'num_var7_recib_ult1', 'num_var22_hace2', 'num_med_var45_ult3', 'num_op_var41_efect_ult1', 'num_trasp_var17_out_hace3', 'saldo_medio_var8_hace3', 'saldo_medio_var13_corto_ult3', 'saldo_medio_var13_largo_hace2', 'saldo_medio_var29_hace2', 'saldo_medio_var33_ult3']\n"
     ]
    }
   ],
   "source": [
    "rr4 = model4.get_support()\n",
    "cols4=[i for i,x in enumerate(rr4) if x] #get column indices\n",
    "#print(\"\\n cols = \", cols, \"\\n\")\n",
    "features_df_new_ga4 = X.iloc[:,cols4]\n",
    "#print (\"\\n features_df_new_ga4= \", features_df_new_ga4)\n",
    "list_dt_top50 = features_df_new_ga4.columns.values.tolist()\n",
    "print(list_dt_top50)"
   ]
  },
  {
   "cell_type": "markdown",
   "id": "24513089",
   "metadata": {},
   "source": [
    "**Model 3**"
   ]
  },
  {
   "cell_type": "code",
   "execution_count": 60,
   "id": "bc62de5f",
   "metadata": {},
   "outputs": [
    {
     "name": "stdout",
     "output_type": "stream",
     "text": [
      "(75818, 41)\n"
     ]
    }
   ],
   "source": [
    "rf2 = RandomForestClassifier()\n",
    "rf2.fit(features_df_new_ga4, y)\n",
    "#Get corresponding test set columns\n",
    "Best_test4 = test_data.iloc[:,cols4] #Get cols of X-Train with col names\n",
    "print(Best_test4.shape)"
   ]
  },
  {
   "cell_type": "code",
   "execution_count": 61,
   "id": "1d6fd8d0",
   "metadata": {},
   "outputs": [],
   "source": [
    "PreID = test_data['ID']\n",
    "prob_test4 = rf2.predict_proba(Best_test4)\n",
    "prob_test4 = pd.DataFrame(prob_test4[:,1],columns=['TARGET']) \n",
    "output4=pd.concat([PreID, prob_test4],axis=1)\n",
    "output4.to_csv(\"C:\\\\Users\\\\Shehjar Raina\\\\Desktop\\\\CIS 508 Data Mining\\\\IA4\\\\GA\\\\Model3_GA_50.csv\", index=False)"
   ]
  },
  {
   "cell_type": "markdown",
   "id": "1e1cb1e5",
   "metadata": {},
   "source": [
    "**Model 4**"
   ]
  },
  {
   "cell_type": "code",
   "execution_count": 62,
   "id": "9c83ebf3",
   "metadata": {},
   "outputs": [
    {
     "name": "stdout",
     "output_type": "stream",
     "text": [
      "(75818, 41)\n"
     ]
    }
   ],
   "source": [
    "dt2 = DecisionTreeClassifier()\n",
    "dt2.fit(features_df_new_ga4, y)\n",
    "#Get corresponding test set columns\n",
    "Best_test4 = test_data.iloc[:,cols4] #Get cols of X-Train with col names\n",
    "print(Best_test4.shape)"
   ]
  },
  {
   "cell_type": "code",
   "execution_count": 63,
   "id": "17840a54",
   "metadata": {},
   "outputs": [],
   "source": [
    "PreID = test_data['ID']\n",
    "prob_test4 = dt2.predict_proba(Best_test4)\n",
    "prob_test4 = pd.DataFrame(prob_test4[:,1],columns=['TARGET']) \n",
    "output4=pd.concat([PreID, prob_test4],axis=1)\n",
    "output4.to_csv(\"C:\\\\Users\\\\Shehjar Raina\\\\Desktop\\\\CIS 508 Data Mining\\\\IA4\\\\GA\\\\Model4_GA_50.csv\", index=False)"
   ]
  },
  {
   "cell_type": "markdown",
   "id": "844e5f3b",
   "metadata": {},
   "source": [
    "max_features = 25 using DecisionTreeClassifier"
   ]
  },
  {
   "cell_type": "code",
   "execution_count": 9,
   "id": "da8aaef3",
   "metadata": {},
   "outputs": [],
   "source": [
    "clf5 = DecisionTreeClassifier()\n",
    "model5 = GeneticSelectionCV(\n",
    "    clf5, cv=5, verbose=0,\n",
    "    scoring=\"accuracy\", max_features=25,\n",
    "    n_population=100, crossover_proba=0.5,\n",
    "    mutation_proba=0.2, n_generations=100,\n",
    "    crossover_independent_proba=0.5,\n",
    "    mutation_independent_proba=0.04,\n",
    "    tournament_size=3, n_gen_no_change=10,\n",
    "    caching=True, n_jobs=-1)\n",
    "model5 = model5.fit(X, y)"
   ]
  },
  {
   "cell_type": "code",
   "execution_count": 10,
   "id": "5ede0a22",
   "metadata": {},
   "outputs": [
    {
     "name": "stdout",
     "output_type": "stream",
     "text": [
      "['var15', 'ind_var14', 'ind_var27_0', 'ind_var29_0', 'num_var6', 'num_var30_0', 'num_var42', 'saldo_var13', 'saldo_var14', 'saldo_var42', 'delta_imp_amort_var34_1y3', 'num_aport_var33_ult1', 'num_meses_var5_ult3', 'num_op_var39_comer_ult1', 'num_reemb_var17_ult1', 'num_trasp_var17_out_ult1', 'num_trasp_var33_in_ult1', 'num_venta_var44_ult1', 'saldo_var2_ult1', 'saldo_medio_var44_ult1']\n"
     ]
    }
   ],
   "source": [
    "rr5 = model5.get_support()\n",
    "cols5=[i for i,x in enumerate(rr5) if x] #get column indices\n",
    "#print(\"\\n cols = \", cols, \"\\n\")\n",
    "features_df_new_ga5 = X.iloc[:,cols5]\n",
    "#print (\"\\n features_df_new_ga5= \", features_df_new_ga5)\n",
    "list_dt_top25 = features_df_new_ga5.columns.values.tolist()\n",
    "print(list_dt_top25)"
   ]
  },
  {
   "cell_type": "markdown",
   "id": "28f93303",
   "metadata": {},
   "source": [
    "**Model 5**"
   ]
  },
  {
   "cell_type": "code",
   "execution_count": 11,
   "id": "3c264be7",
   "metadata": {},
   "outputs": [],
   "source": [
    "rf3 = RandomForestClassifier()\n",
    "rf3.fit(features_df_new_ga5, y)\n",
    "#Get corresponding test set columns\n",
    "Best_test5 = test_data.iloc[:,cols5] #Get cols of X-Train with col names"
   ]
  },
  {
   "cell_type": "code",
   "execution_count": 12,
   "id": "023cec1a",
   "metadata": {},
   "outputs": [],
   "source": [
    "PreID = test_data['ID']\n",
    "prob_test5 = rf3.predict_proba(Best_test5)\n",
    "prob_test5 = pd.DataFrame(prob_test5[:,1],columns=['TARGET']) \n",
    "output5=pd.concat([PreID, prob_test5],axis=1)\n",
    "output5.to_csv(\"C:\\\\Users\\\\Shehjar Raina\\\\Desktop\\\\CIS 508 Data Mining\\\\IA4\\\\GA\\\\Model5_GA_25.csv\", index=False)"
   ]
  },
  {
   "cell_type": "markdown",
   "id": "3cf99427",
   "metadata": {},
   "source": [
    "**Model 6**"
   ]
  },
  {
   "cell_type": "code",
   "execution_count": 13,
   "id": "10e8ad43",
   "metadata": {},
   "outputs": [],
   "source": [
    "dt3 = DecisionTreeClassifier()\n",
    "dt3.fit(features_df_new_ga5, y)\n",
    "#Get corresponding test set columns\n",
    "Best_test5 = test_data.iloc[:,cols5] #Get cols of X-Train with col names"
   ]
  },
  {
   "cell_type": "code",
   "execution_count": 14,
   "id": "afc70120",
   "metadata": {},
   "outputs": [],
   "source": [
    "PreID = test_data['ID']\n",
    "prob_test5 = dt3.predict_proba(Best_test5)\n",
    "prob_test5 = pd.DataFrame(prob_test5[:,1],columns=['TARGET']) \n",
    "output5=pd.concat([PreID, prob_test5],axis=1)\n",
    "output5.to_csv(\"C:\\\\Users\\\\Shehjar Raina\\\\Desktop\\\\CIS 508 Data Mining\\\\IA4\\\\GA\\\\Model6_GA_25.csv\", index=False)"
   ]
  },
  {
   "cell_type": "markdown",
   "id": "93ff8881",
   "metadata": {},
   "source": [
    "max_features = 25 using RandomForestClassifier"
   ]
  },
  {
   "cell_type": "code",
   "execution_count": 15,
   "id": "2be1c17c",
   "metadata": {},
   "outputs": [],
   "source": [
    "clf6 = RandomForestClassifier()\n",
    "model6 = GeneticSelectionCV(\n",
    "    clf6, cv=5, verbose=0,\n",
    "    scoring=\"accuracy\", max_features=25,\n",
    "    n_population=100, crossover_proba=0.5,\n",
    "    mutation_proba=0.2, n_generations=100,\n",
    "    crossover_independent_proba=0.5,\n",
    "    mutation_independent_proba=0.04,\n",
    "    tournament_size=3, n_gen_no_change=10,\n",
    "    caching=True, n_jobs=-1)\n",
    "model6 = model6.fit(X, y)"
   ]
  },
  {
   "cell_type": "code",
   "execution_count": 16,
   "id": "9ea648ac",
   "metadata": {},
   "outputs": [
    {
     "name": "stdout",
     "output_type": "stream",
     "text": [
      "['var3', 'var15', 'imp_ent_var16_ult1', 'imp_op_var39_efect_ult1', 'ind_var26_cte', 'num_var4', 'num_var13_0', 'num_op_var41_hace3', 'num_var32', 'num_var37_0', 'saldo_var6', 'saldo_var42', 'imp_reemb_var13_ult1', 'imp_reemb_var17_hace3', 'num_med_var22_ult3', 'num_op_var40_comer_ult1', 'num_var45_hace3', 'saldo_medio_var5_hace2', 'saldo_medio_var8_ult3']\n"
     ]
    }
   ],
   "source": [
    "rr6 = model6.get_support()\n",
    "cols6=[i for i,x in enumerate(rr6) if x] #get column indices\n",
    "#print(\"\\n cols = \", cols, \"\\n\")\n",
    "features_df_new_ga6 = X.iloc[:,cols6]\n",
    "#print (\"\\n features_df_new_ga5= \", features_df_new_ga5)\n",
    "list_rf_top25 = features_df_new_ga6.columns.values.tolist()\n",
    "print(list_rf_top25)"
   ]
  },
  {
   "cell_type": "markdown",
   "id": "c692487a",
   "metadata": {},
   "source": [
    "**Model 7**"
   ]
  },
  {
   "cell_type": "code",
   "execution_count": 17,
   "id": "0675b21d",
   "metadata": {},
   "outputs": [],
   "source": [
    "rf4 = RandomForestClassifier()\n",
    "rf4.fit(features_df_new_ga6, y)\n",
    "#Get corresponding test set columns\n",
    "Best_test6 = test_data.iloc[:,cols6] #Get cols of X-Train with col names"
   ]
  },
  {
   "cell_type": "code",
   "execution_count": 18,
   "id": "e84204a1",
   "metadata": {},
   "outputs": [],
   "source": [
    "PreID = test_data['ID']\n",
    "prob_test6 = rf4.predict_proba(Best_test6)\n",
    "prob_test6 = pd.DataFrame(prob_test6[:,1],columns=['TARGET']) \n",
    "output6=pd.concat([PreID, prob_test6],axis=1)\n",
    "output6.to_csv(\"C:\\\\Users\\\\Shehjar Raina\\\\Desktop\\\\CIS 508 Data Mining\\\\IA4\\\\GA\\\\Model7_GA_25.csv\", index=False)"
   ]
  },
  {
   "cell_type": "markdown",
   "id": "3c98a222",
   "metadata": {},
   "source": [
    "**Model 8**"
   ]
  },
  {
   "cell_type": "code",
   "execution_count": 19,
   "id": "180ed7d9",
   "metadata": {},
   "outputs": [],
   "source": [
    "dt4 = DecisionTreeClassifier()\n",
    "dt4.fit(features_df_new_ga6, y)\n",
    "#Get corresponding test set columns\n",
    "Best_test6 = test_data.iloc[:,cols6] #Get cols of X-Train with col names"
   ]
  },
  {
   "cell_type": "code",
   "execution_count": 20,
   "id": "bc5219b1",
   "metadata": {},
   "outputs": [],
   "source": [
    "PreID = test_data['ID']\n",
    "prob_test6 = dt4.predict_proba(Best_test6)\n",
    "prob_test6 = pd.DataFrame(prob_test6[:,1],columns=['TARGET']) \n",
    "output6=pd.concat([PreID, prob_test6],axis=1)\n",
    "output6.to_csv(\"C:\\\\Users\\\\Shehjar Raina\\\\Desktop\\\\CIS 508 Data Mining\\\\IA4\\\\GA\\\\Model8_GA_25.csv\", index=False)"
   ]
  },
  {
   "cell_type": "markdown",
   "id": "8236664a",
   "metadata": {},
   "source": [
    "**Using SelectKBest for feature selection**"
   ]
  },
  {
   "cell_type": "markdown",
   "id": "00b6cc86",
   "metadata": {},
   "source": [
    "For k=25"
   ]
  },
  {
   "cell_type": "code",
   "execution_count": 21,
   "id": "fe0486e2",
   "metadata": {},
   "outputs": [
    {
     "name": "stdout",
     "output_type": "stream",
     "text": [
      "['var15' 'ind_var5' 'ind_var8_0' 'ind_var12_0' 'ind_var12' 'ind_var13_0'\n",
      " 'ind_var13_corto_0' 'ind_var13_corto' 'ind_var13' 'ind_var30'\n",
      " 'ind_var39_0' 'num_var4' 'num_var5' 'num_var8_0' 'num_var13_0'\n",
      " 'num_var13_corto_0' 'num_var13_corto' 'num_var13' 'num_var30' 'num_var35'\n",
      " 'num_var42' 'saldo_var30' 'var36' 'num_meses_var5_ult3'\n",
      " 'num_meses_var13_corto_ult3']\n"
     ]
    }
   ],
   "source": [
    "#Feature Selection - Filter type - SelectKBest\n",
    "k_best1 = SelectKBest(k=25)\n",
    "new_df1 = k_best1.fit_transform(x_train,y_train)\n",
    "\n",
    "feature_names_out1 = k_best1.get_support(indices=True)\n",
    "#print(feature_names_out)\n",
    "\n",
    "SelectedFeatures1= pd.DataFrame(new_df1)\n",
    "print(k_best1.get_feature_names_out())"
   ]
  },
  {
   "cell_type": "markdown",
   "id": "2b37839b",
   "metadata": {},
   "source": [
    "For k=50"
   ]
  },
  {
   "cell_type": "code",
   "execution_count": 22,
   "id": "b88583a6",
   "metadata": {},
   "outputs": [
    {
     "name": "stdout",
     "output_type": "stream",
     "text": [
      "['var15' 'imp_op_var41_efect_ult1' 'imp_op_var41_ult1'\n",
      " 'imp_op_var39_efect_ult1' 'imp_op_var39_ult1' 'ind_var5_0' 'ind_var5'\n",
      " 'ind_var8_0' 'ind_var8' 'ind_var12_0' 'ind_var12' 'ind_var13_0'\n",
      " 'ind_var13_corto_0' 'ind_var13_corto' 'ind_var13' 'ind_var24_0'\n",
      " 'ind_var24' 'ind_var30' 'ind_var39_0' 'ind_var41_0' 'num_var4'\n",
      " 'num_var5_0' 'num_var5' 'num_var8_0' 'num_var8' 'num_var12_0' 'num_var12'\n",
      " 'num_var13_0' 'num_var13_corto_0' 'num_var13_corto' 'num_var13'\n",
      " 'num_var24_0' 'num_var24' 'num_var30_0' 'num_var30' 'num_var35'\n",
      " 'num_var39_0' 'num_var41_0' 'num_var42' 'saldo_var13_corto' 'saldo_var13'\n",
      " 'saldo_var30' 'var36' 'num_aport_var13_hace3' 'num_var22_ult1'\n",
      " 'num_meses_var5_ult3' 'num_meses_var8_ult3' 'num_meses_var12_ult3'\n",
      " 'num_meses_var13_corto_ult3' 'saldo_medio_var13_corto_ult1']\n"
     ]
    }
   ],
   "source": [
    "#Feature Selection - Filter type - SelectKBest\n",
    "k_best2 = SelectKBest(k=50)\n",
    "new_df2 = k_best2.fit_transform(x_train,y_train)\n",
    "\n",
    "feature_names_out2 = k_best2.get_support(indices=True)\n",
    "#print(feature_names_out)\n",
    "\n",
    "SelectedFeatures2= pd.DataFrame(new_df2)\n",
    "print(k_best2.get_feature_names_out())"
   ]
  },
  {
   "cell_type": "markdown",
   "id": "9ac37c1a",
   "metadata": {},
   "source": [
    "**Compare their top features**"
   ]
  },
  {
   "cell_type": "code",
   "execution_count": 26,
   "id": "00dadfcb",
   "metadata": {},
   "outputs": [
    {
     "data": {
      "text/plain": [
       "{'delta_imp_amort_var34_1y3',\n",
       " 'imp_op_var41_ult1',\n",
       " 'num_var12_0',\n",
       " 'num_var13_corto_0',\n",
       " 'num_var14_0',\n",
       " 'num_var30_0',\n",
       " 'num_var4',\n",
       " 'num_var42',\n",
       " 'num_var5_0',\n",
       " 'var15'}"
      ]
     },
     "execution_count": 26,
     "metadata": {},
     "output_type": "execute_result"
    }
   ],
   "source": [
    "list_50=(set(list_rf_top50) | set(k_best2.get_feature_names_out())) & set(list_dt_top50)\n",
    "list_50"
   ]
  },
  {
   "cell_type": "code",
   "execution_count": 27,
   "id": "7e8826ec",
   "metadata": {},
   "outputs": [
    {
     "data": {
      "text/plain": [
       "{'num_meses_var5_ult3', 'num_var42', 'saldo_var42', 'var15'}"
      ]
     },
     "execution_count": 27,
     "metadata": {},
     "output_type": "execute_result"
    }
   ],
   "source": [
    "list_25=(set(list_rf_top25) | set(k_best1.get_feature_names_out())) & set(list_dt_top25)\n",
    "list_25"
   ]
  },
  {
   "cell_type": "markdown",
   "id": "81e3462f",
   "metadata": {},
   "source": [
    "**HYPERPARAMETER TUNING USING GA**"
   ]
  },
  {
   "cell_type": "markdown",
   "id": "92a104bf",
   "metadata": {},
   "source": [
    "**Using Random Forest on the entire dataset**"
   ]
  },
  {
   "cell_type": "code",
   "execution_count": 30,
   "id": "65c435c3",
   "metadata": {},
   "outputs": [],
   "source": [
    "from sklearn_genetic import GASearchCV\n",
    "from sklearn_genetic.space import Continuous, Categorical, Integer"
   ]
  },
  {
   "cell_type": "code",
   "execution_count": 80,
   "id": "c6ef14e8",
   "metadata": {},
   "outputs": [
    {
     "name": "stdout",
     "output_type": "stream",
     "text": [
      "gen\tnevals\tfitness \tfitness_std\tfitness_max\tfitness_min\n",
      "0  \t10    \t0.960426\t6.44433e-06\t0.960431   \t0.960418   \n",
      "1  \t20    \t0.960433\t3.94633e-06\t0.960445   \t0.960431   \n",
      "2  \t20    \t0.960437\t6.44433e-06\t0.960445   \t0.960431   \n",
      "3  \t20    \t0.960438\t6.57722e-06\t0.960445   \t0.960431   \n",
      "4  \t20    \t0.960439\t6.44433e-06\t0.960445   \t0.960431   \n",
      "5  \t20    \t0.960438\t6.57722e-06\t0.960445   \t0.960431   \n",
      "{'bootstrap': False, 'max_depth': 27, 'max_leaf_nodes': 32, 'n_estimators': 238}\n"
     ]
    }
   ],
   "source": [
    "clf_param = RandomForestClassifier()\n",
    "\n",
    "param_grid = {'bootstrap': Categorical([True, False]),\n",
    "              'max_depth': Integer(2, 30),\n",
    "              'max_leaf_nodes': Integer(2, 35),\n",
    "              'n_estimators': Integer(100, 300)}\n",
    "\n",
    "evolved_estimator = GASearchCV(estimator=clf_param,\n",
    "                               scoring='accuracy',\n",
    "                               population_size=10,\n",
    "                               generations=5,\n",
    "                               param_grid=param_grid,\n",
    "                               n_jobs=-1,\n",
    "                               verbose=True,\n",
    "                               keep_top_k=4)\n",
    "\n",
    "# Train and optimize the estimator\n",
    "evolved_estimator.fit(x_train, y_train)\n",
    "# Best parameters found\n",
    "print(evolved_estimator.best_params_)"
   ]
  },
  {
   "cell_type": "markdown",
   "id": "a34d1a94",
   "metadata": {},
   "source": [
    "**Final Model 1**"
   ]
  },
  {
   "cell_type": "code",
   "execution_count": 83,
   "id": "d5764fcd",
   "metadata": {},
   "outputs": [
    {
     "data": {
      "text/plain": [
       "{'bootstrap': False,\n",
       " 'max_depth': 27,\n",
       " 'max_leaf_nodes': 32,\n",
       " 'n_estimators': 238}"
      ]
     },
     "execution_count": 83,
     "metadata": {},
     "output_type": "execute_result"
    }
   ],
   "source": [
    "best_params = evolved_estimator.best_params_\n",
    "NewModel = RandomForestClassifier(**best_params)\n",
    "NewModel.fit(x_train,y_train)\n",
    "PredNew = NewModel.predict_proba(test_data)\n",
    "best_params"
   ]
  },
  {
   "cell_type": "code",
   "execution_count": 82,
   "id": "97f504c1",
   "metadata": {},
   "outputs": [],
   "source": [
    "PreID = test_data['ID']\n",
    "YPredNew = NewModel.predict_proba(test_data)\n",
    "YPredNew = pd.DataFrame(YPredNew[:,1],columns=['TARGET']) \n",
    "FinalOutput=pd.concat([PreID, YPredNew],axis=1)\n",
    "FinalOutput.to_csv(\"C:\\\\Users\\\\Shehjar Raina\\\\Desktop\\\\CIS 508 Data Mining\\\\IA4\\\\GA\\\\FinalModel_GA_HT.csv\", index=False)"
   ]
  },
  {
   "cell_type": "markdown",
   "id": "164b393e",
   "metadata": {},
   "source": [
    "**Using Random Forest on X,y**"
   ]
  },
  {
   "cell_type": "code",
   "execution_count": 46,
   "id": "84d6f965",
   "metadata": {},
   "outputs": [
    {
     "name": "stdout",
     "output_type": "stream",
     "text": [
      "gen\tnevals\tfitness \tfitness_std\tfitness_max\tfitness_min\n",
      "0  \t10    \t0.761401\t0.00405882 \t0.765146   \t0.752164   \n",
      "1  \t20    \t0.764797\t0.00111752 \t0.766145   \t0.76265    \n",
      "2  \t20    \t0.76513 \t0.000138229\t0.765313   \t0.764813   \n",
      "3  \t20    \t0.765346\t0.000286336\t0.765812   \t0.764813   \n",
      "4  \t20    \t0.765413\t0.000225671\t0.765646   \t0.765146   \n",
      "5  \t20    \t0.765213\t0.000670823\t0.765646   \t0.763481   \n",
      "{'max_depth': 3, 'n_estimators': 125}\n"
     ]
    }
   ],
   "source": [
    "rf_param = RandomForestClassifier()\n",
    "\n",
    "param_rf = {'bootstrap': Categorical([True, False]),\n",
    "              'max_depth': Integer(2, 30),\n",
    "              'max_leaf_nodes': Integer(2, 35),\n",
    "              'n_estimators': Integer(100, 300)}\n",
    "\n",
    "evolved_estimator = GASearchCV(estimator=rf_param,\n",
    "                               scoring='accuracy',\n",
    "                               population_size=10,\n",
    "                               generations=5,\n",
    "                               param_grid=param_rf,\n",
    "                               n_jobs=-1,\n",
    "                               verbose=True,\n",
    "                               keep_top_k=4)\n",
    "\n",
    "# Train and optimize the estimator\n",
    "evolved_estimator1.fit(X, y)\n",
    "# Best parameters found\n",
    "print(evolved_estimator1.best_params_)"
   ]
  },
  {
   "cell_type": "markdown",
   "id": "70b55af7",
   "metadata": {},
   "source": [
    "**Final Model 2**"
   ]
  },
  {
   "cell_type": "code",
   "execution_count": 47,
   "id": "8e96e25c",
   "metadata": {},
   "outputs": [
    {
     "data": {
      "text/plain": [
       "{'max_depth': 3, 'n_estimators': 125}"
      ]
     },
     "execution_count": 47,
     "metadata": {},
     "output_type": "execute_result"
    }
   ],
   "source": [
    "best_params1 = evolved_estimator1.best_params_\n",
    "NewModel1 = RandomForestClassifier(**best_params1)\n",
    "NewModel1.fit(X,y)\n",
    "PredNew1 = NewModel1.predict_proba(test_data)\n",
    "best_params1"
   ]
  },
  {
   "cell_type": "code",
   "execution_count": 48,
   "id": "029ce05a",
   "metadata": {},
   "outputs": [],
   "source": [
    "PreID1 = test_data['ID']\n",
    "YPredNew1 = NewModel1.predict_proba(test_data)\n",
    "YPredNew1 = pd.DataFrame(YPredNew1[:,1],columns=['TARGET']) \n",
    "FinalOutput1=pd.concat([PreID, YPredNew1],axis=1)\n",
    "FinalOutput1.to_csv(\"C:\\\\Users\\\\Shehjar Raina\\\\Desktop\\\\CIS 508 Data Mining\\\\IA4\\\\GA\\\\FinalModel1_GA_HT.csv\", index=False)"
   ]
  }
 ],
 "metadata": {
  "kernelspec": {
   "display_name": "Python 3 (ipykernel)",
   "language": "python",
   "name": "python3"
  },
  "language_info": {
   "codemirror_mode": {
    "name": "ipython",
    "version": 3
   },
   "file_extension": ".py",
   "mimetype": "text/x-python",
   "name": "python",
   "nbconvert_exporter": "python",
   "pygments_lexer": "ipython3",
   "version": "3.9.13"
  }
 },
 "nbformat": 4,
 "nbformat_minor": 5
}
